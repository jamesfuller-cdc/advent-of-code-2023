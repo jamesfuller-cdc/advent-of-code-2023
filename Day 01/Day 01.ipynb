{
 "cells": [
  {
   "cell_type": "code",
   "execution_count": 185,
   "id": "fecc593b-d733-4d2f-b362-c75cb4fbf942",
   "metadata": {},
   "outputs": [],
   "source": [
    "import pandas as pd\n",
    "\n",
    "# Read Data Frame\n",
    "df = pd.read_csv('../Data/Day 01.txt', header = None, names = ['input'])"
   ]
  },
  {
   "cell_type": "code",
   "execution_count": 186,
   "id": "d0442bef-11db-43af-938e-4f939c7eca42",
   "metadata": {},
   "outputs": [
    {
     "data": {
      "text/plain": [
       "54573"
      ]
     },
     "execution_count": 186,
     "metadata": {},
     "output_type": "execute_result"
    }
   ],
   "source": [
    "# Part 1\n",
    "\n",
    "def extract_values(str):\n",
    "    all_digits = re.findall(r'[0-9]', str)\n",
    "    first_digit = int(all_digits[0])\n",
    "    last_digit = int(all_digits[-1])\n",
    "    value = (10 * first_digit) + last_digit\n",
    "    return value\n",
    "\n",
    "# Apply the function\n",
    "df['value1'] = df['input'].apply(extract_values)\n",
    "\n",
    "# Sum up values to get the final answer\n",
    "df.value1.sum()"
   ]
  },
  {
   "cell_type": "code",
   "execution_count": 187,
   "id": "fa1a223d-4c8f-43cd-9f41-08c107b1c0c4",
   "metadata": {},
   "outputs": [
    {
     "data": {
      "text/plain": [
       "54591"
      ]
     },
     "execution_count": 187,
     "metadata": {},
     "output_type": "execute_result"
    }
   ],
   "source": [
    "# Part 2\n",
    "\n",
    "def extract_values2(str):\n",
    "    num_pattern = 'one|two|three|four|five|six|seven|eight|nine'\n",
    "\n",
    "    # Get First Digit - simple search for digits or words will work\n",
    "    first_pattern = '[0-9]|' + num_pattern\n",
    "    first_digit = re.findall(first_pattern, str)[0]\n",
    "\n",
    "    # Because some words can overlap ('twone' should read as 2 1)\n",
    "    # To find the last digit, search from the back in reverse ([::-1] will reverse a string)\n",
    "    last_pattern = '[0-9]|' + num_pattern[::-1]\n",
    "    last_digit = re.findall(last_pattern, str[::-1])[0]\n",
    "    last_digit = last_digit[::-1]\n",
    "\n",
    "    # Convert to 'one' to '1', 'two' to '2', etc\n",
    "    mapping = { 'one':'1', 'two':'2', 'three':'3', 'four':'4', 'five':'5', 'six':'6', 'seven':'7', 'eight':'8', 'nine':'9'}\n",
    "    for k, v in mapping.items():\n",
    "        first_digit = first_digit.replace(k, v)\n",
    "        last_digit = last_digit.replace(k, v)\n",
    "\n",
    "    # Calculate final value\n",
    "    value = (10 * int(first_digit)) + int(last_digit)\n",
    "    return value\n",
    "\n",
    "df['value2'] = df['input'].apply(extract_values2)\n",
    "sum(df.value2)"
   ]
  },
  {
   "cell_type": "code",
   "execution_count": null,
   "id": "480e42b7-8b7e-4de7-aa27-736704860861",
   "metadata": {},
   "outputs": [],
   "source": []
  }
 ],
 "metadata": {
  "kernelspec": {
   "display_name": "Python 3 (ipykernel)",
   "language": "python",
   "name": "python3"
  },
  "language_info": {
   "codemirror_mode": {
    "name": "ipython",
    "version": 3
   },
   "file_extension": ".py",
   "mimetype": "text/x-python",
   "name": "python",
   "nbconvert_exporter": "python",
   "pygments_lexer": "ipython3",
   "version": "3.8.18"
  }
 },
 "nbformat": 4,
 "nbformat_minor": 5
}
