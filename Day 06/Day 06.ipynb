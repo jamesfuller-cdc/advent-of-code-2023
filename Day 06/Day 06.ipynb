{
 "cells": [
  {
   "cell_type": "code",
   "execution_count": null,
   "id": "525d78f1-bfe1-4537-abbf-9ce962a31a40",
   "metadata": {},
   "outputs": [],
   "source": [
    "import pandas as pd\n",
    "import math\n",
    "\n",
    "df = pd.read_csv('../Data/Day 06.txt', header = None, names = ['input'])\n",
    "df"
   ]
  },
  {
   "cell_type": "code",
   "execution_count": null,
   "id": "bf4ef602-9e71-4deb-ab7a-2654cd4cc862",
   "metadata": {},
   "outputs": [],
   "source": [
    "# Part 1\n",
    "times = df.input[0].split()\n",
    "del times[0]\n",
    "times = list(map(int, times))\n",
    "distances = df.input[1].split()\n",
    "del distances[0]\n",
    "distances = list(map(int, distances))\n",
    "df1 = pd.DataFrame({'time' : times, 'distance' : distances})\n",
    "\n",
    "\n",
    "# Define function to find values where hold time will match distance record\n",
    "def winning_options_length(time, distance):\n",
    "    a = -1\n",
    "    b = time\n",
    "    c = -distance\n",
    "    \n",
    "    # Quadratic equation: (-b  +/- sqrt(b2 - 4ac) ) / (2a)\n",
    "    x1 = (-b + math.sqrt(b*b - 4*a*c )) / (2*a)\n",
    "    x2 = (-b - math.sqrt(b*b - 4*a*c )) / (2*a)\n",
    "    r = [x1, x2]\n",
    "    r.sort()\n",
    "\n",
    "    #1st value, round up\n",
    "    r[0] = math.ceil(r[0])\n",
    "    #2nd value, round down\n",
    "    r[1] = math.floor(r[1])\n",
    "\n",
    "    # Get number of integers in the range\n",
    "    l = r[1] - r[0] + 1\n",
    "    \n",
    "    return(l)\n",
    "\n",
    "# Apply the function to each time/distance pair\n",
    "df1['number_options'] = df1.apply(lambda row: winning_options_length(time = row['time'], distance = row['distance']), axis=1)\n",
    "\n",
    "# Calculate product to get final answer\n",
    "math.prod(df1.number_options)\n",
    "# 303600\n",
    "\n"
   ]
  },
  {
   "cell_type": "code",
   "execution_count": null,
   "id": "bd74f867-1ef6-4a93-97a5-8dc0be10ada5",
   "metadata": {},
   "outputs": [],
   "source": [
    "# Part 2\n",
    "\n",
    "# Collapse string vector and create integers\n",
    "times2 = int(df.input[0].replace('Time','').replace(' ',''))\n",
    "distances2 = int(df.input[1].replace('Distance','').replace(' ',''))\n",
    "\n",
    "# Calculate final answer using same function\n",
    "winning_options_length(time = times2, distance=distances2)\n",
    "# 23654842"
   ]
  }
 ],
 "metadata": {
  "kernelspec": {
   "display_name": "Python 3 (ipykernel)",
   "language": "python",
   "name": "python3"
  },
  "language_info": {
   "codemirror_mode": {
    "name": "ipython",
    "version": 3
   },
   "file_extension": ".py",
   "mimetype": "text/x-python",
   "name": "python",
   "nbconvert_exporter": "python",
   "pygments_lexer": "ipython3",
   "version": "3.8.18"
  }
 },
 "nbformat": 4,
 "nbformat_minor": 5
}
