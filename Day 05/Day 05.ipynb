{
 "cells": [
  {
   "cell_type": "code",
   "execution_count": null,
   "id": "f74b35c5-beb6-44f8-9510-bd6d44e2ea17",
   "metadata": {},
   "outputs": [],
   "source": [
    "import pandas as pd\n",
    "import numpy as np\n",
    "\n",
    "df = pd.read_csv('../Data/Day 05.txt', header=None, names=['input'], skip_blank_lines=False)\n",
    "df"
   ]
  },
  {
   "cell_type": "code",
   "execution_count": null,
   "id": "1b319226-1701-4f61-860e-22bfa84cfeef",
   "metadata": {},
   "outputs": [],
   "source": [
    "seeds = df.input[0]\n",
    "seeds = seeds.replace('seeds: ','').split()\n",
    "seeds = list(map(int, seeds))\n",
    "seeds"
   ]
  },
  {
   "cell_type": "code",
   "execution_count": null,
   "id": "7dbc8e29-9047-4dfd-a1b5-503ade7b4dd0",
   "metadata": {},
   "outputs": [],
   "source": [
    "df_noseeds = df.drop([0])\n",
    "df_noseeds"
   ]
  },
  {
   "cell_type": "code",
   "execution_count": null,
   "id": "a5257c10-db42-4c40-b779-800a0bf5d186",
   "metadata": {},
   "outputs": [],
   "source": [
    "# Blank Rows to delineate brea\n",
    "blank_rows = df_noseeds.loc[pd.isna(df_noseeds['input']), :].index.tolist()\n",
    "blank_rows"
   ]
  },
  {
   "cell_type": "code",
   "execution_count": null,
   "id": "d3c74210-6602-4aed-af9f-b19f3eecde2a",
   "metadata": {},
   "outputs": [],
   "source": [
    "title_rows = list(map(int, blank_rows))\n",
    "title_rows = [x+1 for x in title_rows]\n",
    "title_rows"
   ]
  },
  {
   "cell_type": "code",
   "execution_count": null,
   "id": "e23d014e-a85c-4ec3-a06d-239042927d36",
   "metadata": {},
   "outputs": [],
   "source": [
    "titles = df_noseeds.input[title_rows]\n",
    "titles = titles.str.replace(' map:','')\n",
    "titles"
   ]
  },
  {
   "cell_type": "code",
   "execution_count": null,
   "id": "5f671f0b-f998-4189-b64f-4d6f7b069278",
   "metadata": {},
   "outputs": [],
   "source": [
    "mat_start = [x+1 for x in title_rows]\n",
    "mat_start"
   ]
  },
  {
   "cell_type": "code",
   "execution_count": null,
   "id": "4901c70b-cea8-4531-b99f-f2ec7a24ec10",
   "metadata": {},
   "outputs": [],
   "source": [
    "mat_end = [x-1 for x in blank_rows]\n",
    "mat_end = mat_end[1:]\n",
    "mat_end.append(len(df_noseeds))\n",
    "mat_end"
   ]
  },
  {
   "cell_type": "code",
   "execution_count": null,
   "id": "631e3eee-e5cc-4ce8-b218-83c976244a37",
   "metadata": {},
   "outputs": [],
   "source": [
    "df_meta = pd.DataFrame(\n",
    "    {\n",
    "        'title': titles,\n",
    "        'mat_start': mat_start,\n",
    "        'mat_end': mat_end\n",
    "    }\n",
    ")\n",
    "df_meta = df_meta.reset_index(drop=True)\n",
    "df_meta"
   ]
  },
  {
   "cell_type": "code",
   "execution_count": null,
   "id": "5880fdd5-31bd-4c05-98de-41109a12d32e",
   "metadata": {},
   "outputs": [],
   "source": [
    "map_dict = {}\n",
    "for index, row in df_meta.iterrows():\n",
    "    \n",
    "    # Get Meta values\n",
    "    title = row['title']\n",
    "    start = row['mat_start']\n",
    "    end = row['mat_end']\n",
    "\n",
    "    df = pd.DataFrame(df_noseeds.input[start:end])\n",
    "    # df = pd.DataFrame(df)\n",
    "    df = df.input.str.split(expand = True)\n",
    "    df.rename(columns={0:'dest_start', 1:'source_start', 2:'length'}, inplace=True)\n",
    "    \n",
    "    map_dict[title] = df.reset_index(drop=True)\n",
    "\n",
    "    # get full sequences to map\n",
    "    map_dict[title]['source_range'] = map_dict[title].apply(lambda  row: range(int(row['source_start']), int(row['source_start'])+int(row['length'])), axis=1)\n",
    "    map_dict[title]['dest_range'] = map_dict[title].apply(lambda  row: range(int(row['dest_start']), int(row['dest_start'])+int(row['length'])), axis=1)\n",
    "    "
   ]
  },
  {
   "cell_type": "code",
   "execution_count": null,
   "id": "1930d38a-cfbb-4961-a157-53aab0b03c65",
   "metadata": {},
   "outputs": [],
   "source": [
    "def convert_source_to_dest(source, mat):\n",
    "\n",
    "    # into which row of the matrix does the source value fall?\n",
    "    found_source = list(mat.apply(lambda row: source in row['source_range'], axis=1))\n",
    "    row = np.where(found_source)[0]\n",
    "\n",
    "    if len(row)==0:\n",
    "        dest = source\n",
    "    else:\n",
    "        # Find actual source number in source range series\n",
    "        element = source - int(mat.source_start[row].iloc[0])\n",
    "        \n",
    "        # Calculate destination number from dest range series\n",
    "        dest = int(mat.dest_start[row].iloc[0]) + element\n",
    "    \n",
    "    return(dest)"
   ]
  },
  {
   "cell_type": "code",
   "execution_count": null,
   "id": "b5effbba-b917-4a44-92a0-2bb96ac10cab",
   "metadata": {},
   "outputs": [],
   "source": [
    "df_final = pd.DataFrame({'seed':seeds})\n",
    "df_final['soil'] = df_final.apply(lambda row: convert_source_to_dest(source = int(row['seed']), mat=map_dict['seed-to-soil']), axis=1)\n",
    "df_final['fertilizer'] = df_final.apply(lambda row: convert_source_to_dest(source = int(row['soil']), mat=map_dict['soil-to-fertilizer']), axis=1)\n",
    "df_final['water'] = df_final.apply(lambda row: convert_source_to_dest(source = int(row['fertilizer']), mat=map_dict['fertilizer-to-water']), axis=1)\n",
    "df_final['light'] = df_final.apply(lambda row: convert_source_to_dest(source = int(row['water']), mat=map_dict['water-to-light']), axis=1)\n",
    "df_final['temperature'] = df_final.apply(lambda row: convert_source_to_dest(source = int(row['light']), mat=map_dict['light-to-temperature']), axis=1)\n",
    "df_final['humidity'] = df_final.apply(lambda row: convert_source_to_dest(source = int(row['temperature']), mat=map_dict['temperature-to-humidity']), axis=1)\n",
    "df_final['location'] = df_final.apply(lambda row: convert_source_to_dest(source = int(row['humidity']), mat=map_dict['humidity-to-location']), axis=1)\n",
    "df_final"
   ]
  },
  {
   "cell_type": "code",
   "execution_count": null,
   "id": "14357fed-eb02-45a7-8103-6044f166274f",
   "metadata": {},
   "outputs": [],
   "source": [
    "min(df_final['location'])"
   ]
  }
 ],
 "metadata": {
  "kernelspec": {
   "display_name": "Python 3 (ipykernel)",
   "language": "python",
   "name": "python3"
  },
  "language_info": {
   "codemirror_mode": {
    "name": "ipython",
    "version": 3
   },
   "file_extension": ".py",
   "mimetype": "text/x-python",
   "name": "python",
   "nbconvert_exporter": "python",
   "pygments_lexer": "ipython3",
   "version": "3.8.18"
  }
 },
 "nbformat": 4,
 "nbformat_minor": 5
}
