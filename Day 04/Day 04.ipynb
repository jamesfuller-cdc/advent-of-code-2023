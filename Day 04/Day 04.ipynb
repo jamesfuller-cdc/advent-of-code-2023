{
 "cells": [
  {
   "cell_type": "code",
   "execution_count": null,
   "id": "db2bfb27-7516-4397-9522-68167a171e1b",
   "metadata": {},
   "outputs": [],
   "source": [
    "import pandas as pd\n",
    "\n",
    "df = pd.read_csv('../Data/Day 04.txt', header = None, names = ['input'])\n",
    "\n",
    "# Parse the data frame\n",
    "df[['Card','Contents']] = df['input'].str.split(':', n=1, expand=True)\n",
    "df[['Winning','Numbers']] = df['Contents'].str.split('|', n=1, expand=True)"
   ]
  },
  {
   "cell_type": "code",
   "execution_count": null,
   "id": "7989524d-e51d-4add-a306-81d4a47481d1",
   "metadata": {},
   "outputs": [],
   "source": [
    "# Part 1\n",
    "def how_many_matches(winning, numbers):\n",
    "    winning = winning.split(' ')\n",
    "    winning = list(filter(None, winning))\n",
    "    winning = list(map(int, winning))\n",
    "    numbers = numbers.split(' ')\n",
    "    numbers = list(filter(None, numbers))\n",
    "    numbers = list(map(int, numbers))\n",
    "    winning_numbers = []\n",
    "    for n in numbers:\n",
    "        if n in winning:\n",
    "            winning_numbers = winning_numbers + [n]\n",
    "    if len(winning_numbers)==0:\n",
    "        return(0)\n",
    "    else:\n",
    "        return(2**(len(winning_numbers)-1))\n",
    "\n",
    "\n",
    "sum(df.apply(lambda row: how_many_matches(row['Winning'], row['Numbers']), axis=1))"
   ]
  }
 ],
 "metadata": {
  "kernelspec": {
   "display_name": "Python 3 (ipykernel)",
   "language": "python",
   "name": "python3"
  },
  "language_info": {
   "codemirror_mode": {
    "name": "ipython",
    "version": 3
   },
   "file_extension": ".py",
   "mimetype": "text/x-python",
   "name": "python",
   "nbconvert_exporter": "python",
   "pygments_lexer": "ipython3",
   "version": "3.8.18"
  }
 },
 "nbformat": 4,
 "nbformat_minor": 5
}
