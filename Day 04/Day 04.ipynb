{
 "cells": [
  {
   "cell_type": "code",
   "execution_count": null,
   "id": "db2bfb27-7516-4397-9522-68167a171e1b",
   "metadata": {},
   "outputs": [],
   "source": [
    "import pandas as pd\n",
    "\n",
    "df = pd.read_csv('../Data/Day 04.txt', header = None, names = ['input'])\n",
    "\n",
    "# Parse the data frame\n",
    "df[['Card','Contents']] = df['input'].str.split(':', n=1, expand=True)\n",
    "df[['Winning','Numbers']] = df['Contents'].str.split('|', n=1, expand=True)\n",
    "df['Card'] = pd.to_numeric(df['Card'].str.replace('Card ',''))\n",
    "df"
   ]
  },
  {
   "cell_type": "code",
   "execution_count": null,
   "id": "7989524d-e51d-4add-a306-81d4a47481d1",
   "metadata": {},
   "outputs": [],
   "source": [
    "# Part 1\n",
    "def score_card(winning, numbers):\n",
    "    winning = winning.split(' ')\n",
    "    winning = list(filter(None, winning))\n",
    "    winning = list(map(int, winning))\n",
    "    numbers = numbers.split(' ')\n",
    "    numbers = list(filter(None, numbers))\n",
    "    numbers = list(map(int, numbers))\n",
    "    winning_numbers = []\n",
    "    for n in numbers:\n",
    "        if n in winning:\n",
    "            winning_numbers = winning_numbers + [n]\n",
    "    if len(winning_numbers)==0:\n",
    "        return(0)\n",
    "    else:\n",
    "        return(2**(len(winning_numbers)-1))\n",
    "\n",
    "\n",
    "sum(df.apply(lambda row: score_card(row['Winning'], row['Numbers']), axis=1))"
   ]
  },
  {
   "cell_type": "code",
   "execution_count": null,
   "id": "2bc88c05-e14f-4354-8130-ce03668a2631",
   "metadata": {},
   "outputs": [],
   "source": [
    "# Part 2\n",
    "def how_many_matches(winning, numbers):\n",
    "    winning = winning.split(' ')\n",
    "    winning = list(filter(None, winning))\n",
    "    winning = list(map(int, winning))\n",
    "    numbers = numbers.split(' ')\n",
    "    numbers = list(filter(None, numbers))\n",
    "    numbers = list(map(int, numbers))\n",
    "    winning_numbers = []\n",
    "    for n in numbers:\n",
    "        if n in winning:\n",
    "            winning_numbers = winning_numbers + [n]\n",
    "    return(len(winning_numbers))\n",
    "\n",
    "# Get Number of matches each card has\n",
    "df['Matches'] = df.apply(lambda row: how_many_matches(row['Winning'], row['Numbers']), axis=1)\n",
    "\n",
    "# Apply algorithm row by row\n",
    "df['Copies'] = 1 # Start with 1 copy of each card\n",
    "for i, row in df.iterrows():\n",
    "    matches = df.at[i,'Matches']\n",
    "    copies = df.at[i,'Copies']\n",
    "    if matches > 0:\n",
    "        for m in list(range(1,matches+1)):\n",
    "            df.at[i+m, 'Copies'] = df.at[i+m, 'Copies'] + copies\n",
    "\n",
    "sum(df['Copies']) "
   ]
  }
 ],
 "metadata": {
  "kernelspec": {
   "display_name": "Python 3 (ipykernel)",
   "language": "python",
   "name": "python3"
  },
  "language_info": {
   "codemirror_mode": {
    "name": "ipython",
    "version": 3
   },
   "file_extension": ".py",
   "mimetype": "text/x-python",
   "name": "python",
   "nbconvert_exporter": "python",
   "pygments_lexer": "ipython3",
   "version": "3.8.18"
  }
 },
 "nbformat": 4,
 "nbformat_minor": 5
}
